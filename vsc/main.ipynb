{
 "cells": [
  {
   "cell_type": "code",
   "execution_count": 1,
   "metadata": {},
   "outputs": [],
   "source": [
    "from matplotlib import pyplot as plt\n",
    "from dataclasses import dataclass\n",
    "from typing import Callable\n",
    "import numpy as np\n"
   ]
  },
  {
   "attachments": {},
   "cell_type": "markdown",
   "metadata": {},
   "source": [
    "# Random walk\n"
   ]
  },
  {
   "cell_type": "code",
   "execution_count": 2,
   "metadata": {},
   "outputs": [],
   "source": [
    "class Solver:\n",
    "    pass\n",
    "\n",
    "\n",
    "@dataclass\n",
    "class RndWalkSolver(Solver):\n",
    "    dim: int\n",
    "    mn: np.array\n",
    "    mx: np.array\n",
    "    stp: float\n",
    "    atmps: int = 100\n",
    "\n",
    "    def get_rnd_point(self):  # Apply rand to min max range\n",
    "        return self.mn + (np.random.rand(1, self.dim) * (self.mx - self.mn))\n",
    "\n",
    "    def get_rnd_step(self, pnt):\n",
    "        end = None\n",
    "\n",
    "        for i in range(1000):  # Prevent infinite loops\n",
    "            if end is not None and (end < self.mx).all() and (end > self.mn).all():\n",
    "                break\n",
    "\n",
    "            end = pnt\n",
    "\n",
    "            # Make a step in random direction in n dimensional space\n",
    "            # step is a distance between 2 points, given by step = sqrt(x1**2 + x2**2 + x3**2 +...)\n",
    "            # then step**2 is a sum of steps in each direction**2.\n",
    "            # Due to implementation restricts first assume step is 1 then resize sum of squares to required step.\n",
    "            d = np.sqrt(\n",
    "                np.random.dirichlet(\n",
    "                    # Assume step size is 1 -> 1**2 is sqrt(x1**2 + x2**2 + x3**2 +...)\n",
    "                    np.ones(self.dim), size=1**2\n",
    "                ) * self.stp**2  # Resize to required step size\n",
    "            )\n",
    "            # Change direction randomly (otherwise function will only grow)\n",
    "            d = np.where(\n",
    "                np.random.choice(\n",
    "                    a=[False, True],\n",
    "                    size=(1, self.dim)\n",
    "                ), -d, d\n",
    "            )\n",
    "\n",
    "            end = pnt + d\n",
    "        else:  # Not feasible in N iterations\n",
    "            raise RuntimeError('Not feasible')\n",
    "\n",
    "        return end\n",
    "\n",
    "    def solve(self, trg: Callable[[np.array], np.array], cmp: Callable[[float, float], bool], vis=False):\n",
    "        ax = None\n",
    "        if vis:\n",
    "            ax = plt.subplot()\n",
    "\n",
    "        bst = self.get_rnd_point()\n",
    "        bst_f = trg(bst)\n",
    "\n",
    "        lst = bst\n",
    "        for i in range(self.atmps):\n",
    "            tst = self.get_rnd_step(lst)\n",
    "            tst_f = trg(tst)\n",
    "\n",
    "            if cmp(bst_f, tst_f):\n",
    "                bst, bst_f = tst, tst_f\n",
    "\n",
    "            if ax is not None and self.dim == 2:\n",
    "                ax.plot([\n",
    "                    lst[0][0],\n",
    "                    tst[0][0],\n",
    "                ], [\n",
    "                    lst[0][1],\n",
    "                    tst[0][1]\n",
    "                ], color='b', alpha=0.2)\n",
    "                ax.scatter(tst[0][0], tst[0][1], s=tst_f, color='b', alpha=0.2)\n",
    "\n",
    "            lst = tst\n",
    "\n",
    "        if ax is not None and self.dim == 2:\n",
    "            ax.scatter(bst[0][0], bst[0][1], s=bst_f, color='r', alpha=0.5)\n",
    "        \n",
    "        return bst, bst_f\n"
   ]
  },
  {
   "cell_type": "code",
   "execution_count": 3,
   "metadata": {},
   "outputs": [
    {
     "data": {
      "text/plain": [
       "(array([[3.52062293, 3.54464453]]), 41.22036045260247)"
      ]
     },
     "execution_count": 3,
     "metadata": {},
     "output_type": "execute_result"
    },
    {
     "data": {
      "image/png": "[encoded data removed]",
      "text/plain": [
       "<Figure size 432x288 with 1 Axes>"
      ]
     },
     "metadata": {
      "needs_background": "light"
     },
     "output_type": "display_data"
    }
   ],
   "source": [
    "def target(x: np.array):\n",
    "    return np.sum(x**2+4*x-6)\n",
    "\n",
    "\n",
    "slv = RndWalkSolver(2, np.array([2, 2]), np.array([4.5, 4.5]), 0.1, 100)\n",
    "slv.solve(target, lambda bp, tp: tp < bp, True)\n"
   ]
  },
  {
   "attachments": {},
   "cell_type": "markdown",
   "metadata": {},
   "source": [
    "# Neuron net work\n"
   ]
  },
  {
   "cell_type": "code",
   "execution_count": 12,
   "metadata": {},
   "outputs": [],
   "source": [
    "@dataclass\n",
    "class N:\n",
    "    w: float\n",
    "    b: float\n",
    "\n",
    "    def internal_potencial(self, x):\n",
    "        return np.dot(x, self.w) + self.b\n",
    "\n",
    "\n",
    "@dataclass\n",
    "class ThresholdN(N):\n",
    "    threshold: float\n",
    "    act_fn: Callable[[np.array], float]\n",
    "\n",
    "    def apply(self, x):\n",
    "        ip = self.internal_potencial(x)\n",
    "        return 1 if self.act_fn(ip) >= self.threshold else 0\n"
   ]
  },
  {
   "cell_type": "code",
   "execution_count": 13,
   "metadata": {},
   "outputs": [],
   "source": [
    "data = [\n",
    "    [np.array((0, 0)), 0],\n",
    "    [np.array((0, 1)), 0],\n",
    "    [np.array((1, 0)), 0],\n",
    "    [np.array((1, 1)), 1],\n",
    "]"
   ]
  },
  {
   "cell_type": "code",
   "execution_count": 34,
   "metadata": {},
   "outputs": [
    {
     "name": "stdout",
     "output_type": "stream",
     "text": [
      "best: [[0.52018782 0.40411763 0.88186081 0.9331392 ]], score: 4\n",
      "[0 0] -> 0 (0)\n",
      "[0 1] -> 0 (0)\n",
      "[1 0] -> 0 (0)\n",
      "[1 1] -> 1 (1)\n"
     ]
    }
   ],
   "source": [
    "def metrics(w_b_thr):\n",
    "    *w, b, threshold = w_b_thr[0]\n",
    "    n = ThresholdN(\n",
    "        w=w, b=b,\n",
    "        threshold=threshold,\n",
    "        act_fn=np.tanh\n",
    "    )\n",
    "\n",
    "    match = 0\n",
    "    for x, y in data:\n",
    "        if n.apply(x) == y:\n",
    "            match += 1\n",
    "\n",
    "    return match\n",
    "\n",
    "\n",
    "slv = RndWalkSolver(4, np.array([0, 0, -1, 0]),\n",
    "                    np.array([1, 1, 1, 1]), 0.1, 100)\n",
    "tweaks, score = slv.solve(metrics, lambda bp, tp: tp > bp, False)\n",
    "print(f'best: {tweaks}, score: {score}')\n",
    "\n",
    "*w, b, threshold = tweaks[0]\n",
    "\n",
    "n = ThresholdN(w=w, b=b, threshold=threshold, act_fn=np.tanh)\n",
    "\n",
    "for x, y in data:\n",
    "    p_y = n.apply(x)\n",
    "    print(f'{x} -> {p_y} ({y})')\n"
   ]
  }
 ],
 "metadata": {
  "kernelspec": {
   "display_name": "base",
   "language": "python",
   "name": "python3"
  },
  "language_info": {
   "codemirror_mode": {
    "name": "ipython",
    "version": 3
   },
   "file_extension": ".py",
   "mimetype": "text/x-python",
   "name": "python",
   "nbconvert_exporter": "python",
   "pygments_lexer": "ipython3",
   "version": "3.9.12"
  },
  "orig_nbformat": 4,
  "vscode": {
   "interpreter": {
    "hash": "7078a8259a9da47834674846d2e014006b0221395b32cf5c78ba3b01ceef5db1"
   }
  }
 },
 "nbformat": 4,
 "nbformat_minor": 2
}
